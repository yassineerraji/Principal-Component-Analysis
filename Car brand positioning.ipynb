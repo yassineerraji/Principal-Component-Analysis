{
 "cells": [
  {
   "attachments": {},
   "cell_type": "markdown",
   "id": "d79ec624-3def-46bb-b3cb-b9667f994d8c",
   "metadata": {},
   "source": [
    "# Introduction.\n",
    "\n",
    "\n",
    "## An example of perceptual mapping: The car market\n",
    "\n",
    "Principal Component Analysis (PCA) is a dimensionality reduction technique. It is extremely useful when we want to compress high dimensional correlated data into low dimensional orthogonal data. The methodology allows us to convert many correlated variables into fewer intuitive underlying components. PCA can then be used to visualize the position of the products/respondents on a two-dimensional map, called “perceptual maps”. PCA and perceptual maps have many uses in marketing analytics.\n",
    "\n",
    "An important use of perceptual mapping is in brand positioning, where it is often used to understand how consumers perceive brands in their mind. Since much of marketing management is concerned with questions of positioning (With what brands do we compete? On what dimensions to we compete? Where should we position our brand?), perceptual mapping is an extremely useful technique for marketers.\n",
    "\n",
    "In this handout, we will learn how to do PCA and generate perceptual maps using Python. These steps closely parallel what we did in the lecture."
   ]
  },
  {
   "cell_type": "markdown",
   "id": "6d2df20d-6243-44d5-8be5-a1b129e38e95",
   "metadata": {},
   "source": [
    "## Overview of car ratings dataset\n",
    "### Import the data and summarize it"
   ]
  },
  {
   "cell_type": "markdown",
   "id": "bc5b85d0-26b1-456e-a7f7-48c50150502b",
   "metadata": {},
   "source": [
    "We first import the data car-ratings.csv into a dataframe. As a reminder, remember to store the data in the same folder as your working directory. We can also take a look at the first few row of the data to see how it looks like."
   ]
  },
  {
   "cell_type": "code",
   "execution_count": 2,
   "id": "e245c15e-9664-42f8-91fa-b7ab08ede71c",
   "metadata": {},
   "outputs": [
    {
     "name": "stdout",
     "output_type": "stream",
     "text": [
      "   Resp  Car No.     Car  Afford  Practical  Class  Sporty  Youth App  Fun\n",
      "0     1        1  Taurus       4          6      4       3          2    2\n",
      "1     1        2   Mazda       7          5      2       5          6    6\n",
      "2     1        3   Camry       4          6      4       2          3    2\n",
      "3     1        4   Acura       3          5      6       5          4    5\n",
      "4     1        5     BMW       2          4      7       6          4    6\n"
     ]
    }
   ],
   "source": [
    "import pandas as pd\n",
    "\n",
    "# Read the CSV file into a DataFrame\n",
    "car = pd.read_csv('data/car-ratings.csv')\n",
    "\n",
    "# Display the first few rows of the DataFrame\n",
    "car.head()"
   ]
  },
  {
   "cell_type": "markdown",
   "id": "f3e082e0-4e6a-4466-bdc6-6c5164277a3c",
   "metadata": {},
   "source": [
    "It is always a good idea to examine the summary statistics of the data using the describe command. It help us to see if we have any extreme values that would skew our results."
   ]
  },
  {
   "cell_type": "code",
   "execution_count": 6,
   "id": "2218ff67-43e9-4d1d-b7d9-560209bcf3c2",
   "metadata": {},
   "outputs": [
    {
     "data": {
      "text/html": [
       "<div>\n",
       "<style scoped>\n",
       "    .dataframe tbody tr th:only-of-type {\n",
       "        vertical-align: middle;\n",
       "    }\n",
       "\n",
       "    .dataframe tbody tr th {\n",
       "        vertical-align: top;\n",
       "    }\n",
       "\n",
       "    .dataframe thead th {\n",
       "        text-align: right;\n",
       "    }\n",
       "</style>\n",
       "<table border=\"1\" class=\"dataframe\">\n",
       "  <thead>\n",
       "    <tr style=\"text-align: right;\">\n",
       "      <th></th>\n",
       "      <th>Resp</th>\n",
       "      <th>Car No.</th>\n",
       "      <th>Afford</th>\n",
       "      <th>Practical</th>\n",
       "      <th>Class</th>\n",
       "      <th>Sporty</th>\n",
       "      <th>Youth App</th>\n",
       "      <th>Fun</th>\n",
       "    </tr>\n",
       "  </thead>\n",
       "  <tbody>\n",
       "    <tr>\n",
       "      <th>count</th>\n",
       "      <td>120.00</td>\n",
       "      <td>120.00</td>\n",
       "      <td>120.00</td>\n",
       "      <td>120.00</td>\n",
       "      <td>120.00</td>\n",
       "      <td>120.00</td>\n",
       "      <td>120.00</td>\n",
       "      <td>120.00</td>\n",
       "    </tr>\n",
       "    <tr>\n",
       "      <th>mean</th>\n",
       "      <td>10.50</td>\n",
       "      <td>3.50</td>\n",
       "      <td>3.46</td>\n",
       "      <td>5.00</td>\n",
       "      <td>3.96</td>\n",
       "      <td>3.88</td>\n",
       "      <td>4.00</td>\n",
       "      <td>4.25</td>\n",
       "    </tr>\n",
       "    <tr>\n",
       "      <th>std</th>\n",
       "      <td>5.79</td>\n",
       "      <td>1.71</td>\n",
       "      <td>2.07</td>\n",
       "      <td>1.56</td>\n",
       "      <td>1.89</td>\n",
       "      <td>1.97</td>\n",
       "      <td>1.64</td>\n",
       "      <td>1.79</td>\n",
       "    </tr>\n",
       "    <tr>\n",
       "      <th>min</th>\n",
       "      <td>1.00</td>\n",
       "      <td>1.00</td>\n",
       "      <td>1.00</td>\n",
       "      <td>2.00</td>\n",
       "      <td>1.00</td>\n",
       "      <td>1.00</td>\n",
       "      <td>2.00</td>\n",
       "      <td>2.00</td>\n",
       "    </tr>\n",
       "    <tr>\n",
       "      <th>25%</th>\n",
       "      <td>5.75</td>\n",
       "      <td>2.00</td>\n",
       "      <td>1.75</td>\n",
       "      <td>4.00</td>\n",
       "      <td>3.00</td>\n",
       "      <td>2.00</td>\n",
       "      <td>3.00</td>\n",
       "      <td>2.75</td>\n",
       "    </tr>\n",
       "    <tr>\n",
       "      <th>50%</th>\n",
       "      <td>10.50</td>\n",
       "      <td>3.50</td>\n",
       "      <td>3.50</td>\n",
       "      <td>5.00</td>\n",
       "      <td>3.00</td>\n",
       "      <td>4.50</td>\n",
       "      <td>4.00</td>\n",
       "      <td>4.00</td>\n",
       "    </tr>\n",
       "    <tr>\n",
       "      <th>75%</th>\n",
       "      <td>15.25</td>\n",
       "      <td>5.00</td>\n",
       "      <td>5.00</td>\n",
       "      <td>6.00</td>\n",
       "      <td>6.00</td>\n",
       "      <td>6.00</td>\n",
       "      <td>5.00</td>\n",
       "      <td>6.00</td>\n",
       "    </tr>\n",
       "    <tr>\n",
       "      <th>max</th>\n",
       "      <td>20.00</td>\n",
       "      <td>6.00</td>\n",
       "      <td>7.00</td>\n",
       "      <td>7.00</td>\n",
       "      <td>7.00</td>\n",
       "      <td>7.00</td>\n",
       "      <td>7.00</td>\n",
       "      <td>7.00</td>\n",
       "    </tr>\n",
       "  </tbody>\n",
       "</table>\n",
       "</div>"
      ],
      "text/plain": [
       "         Resp  Car No.  Afford  Practical   Class  Sporty  Youth App     Fun\n",
       "count  120.00   120.00  120.00     120.00  120.00  120.00     120.00  120.00\n",
       "mean    10.50     3.50    3.46       5.00    3.96    3.88       4.00    4.25\n",
       "std      5.79     1.71    2.07       1.56    1.89    1.97       1.64    1.79\n",
       "min      1.00     1.00    1.00       2.00    1.00    1.00       2.00    2.00\n",
       "25%      5.75     2.00    1.75       4.00    3.00    2.00       3.00    2.75\n",
       "50%     10.50     3.50    3.50       5.00    3.00    4.50       4.00    4.00\n",
       "75%     15.25     5.00    5.00       6.00    6.00    6.00       5.00    6.00\n",
       "max     20.00     6.00    7.00       7.00    7.00    7.00       7.00    7.00"
      ]
     },
     "execution_count": 6,
     "metadata": {},
     "output_type": "execute_result"
    }
   ],
   "source": [
    "car.describe().round(2)"
   ]
  },
  {
   "cell_type": "markdown",
   "id": "c7dd45ff-ea26-4c92-88ee-17604564120f",
   "metadata": {},
   "source": [
    "## Exploratory analysis"
   ]
  },
  {
   "cell_type": "markdown",
   "id": "765268a8-464c-4111-8b31-a7baa743562e",
   "metadata": {},
   "source": [
    "Now we want to do some simple analysis of the data. There are three key steps in the exploratory analysis."
   ]
  },
  {
   "cell_type": "markdown",
   "id": "6e34b986-ab92-41c3-afea-b9a756130046",
   "metadata": {},
   "source": [
    "### Exploratory step 1: Re-scale the data (1a)"
   ]
  },
  {
   "cell_type": "markdown",
   "id": "ca1e9f76-dbac-4477-bffa-12c9033e3b26",
   "metadata": {},
   "source": [
    "In both exploratory analysis as well as the main PCA, it is important to scale the data to ensure that the data are comparable across individuals and samples. So for each ratings variable, we need to do the following: for each observation, we subtract the mean of that variable and divide by the standard deviation. This procedure is called z-scoring the data. In Python you can scale a variable using the scale() from sklearn.preprocessing package. We now scale the car ratings data using two steps. First, we create a new data frame called ‘car_scaled’ and copy car into it. Then we modify car_scaled by scaling columns 4 through 9. To confirm that the scaling was done correctly, we use the describe command."
   ]
  },
  {
   "cell_type": "code",
   "execution_count": 11,
   "id": "303410d9-6628-419d-ac51-6d7f500ff063",
   "metadata": {},
   "outputs": [
    {
     "data": {
      "text/html": [
       "<div>\n",
       "<style scoped>\n",
       "    .dataframe tbody tr th:only-of-type {\n",
       "        vertical-align: middle;\n",
       "    }\n",
       "\n",
       "    .dataframe tbody tr th {\n",
       "        vertical-align: top;\n",
       "    }\n",
       "\n",
       "    .dataframe thead th {\n",
       "        text-align: right;\n",
       "    }\n",
       "</style>\n",
       "<table border=\"1\" class=\"dataframe\">\n",
       "  <thead>\n",
       "    <tr style=\"text-align: right;\">\n",
       "      <th></th>\n",
       "      <th>Resp</th>\n",
       "      <th>Car No.</th>\n",
       "      <th>Afford</th>\n",
       "      <th>Practical</th>\n",
       "      <th>Class</th>\n",
       "      <th>Sporty</th>\n",
       "      <th>Youth App</th>\n",
       "      <th>Fun</th>\n",
       "    </tr>\n",
       "  </thead>\n",
       "  <tbody>\n",
       "    <tr>\n",
       "      <th>count</th>\n",
       "      <td>120.00</td>\n",
       "      <td>120.00</td>\n",
       "      <td>120.00</td>\n",
       "      <td>120.00</td>\n",
       "      <td>120.00</td>\n",
       "      <td>120.00</td>\n",
       "      <td>120.00</td>\n",
       "      <td>120.00</td>\n",
       "    </tr>\n",
       "    <tr>\n",
       "      <th>mean</th>\n",
       "      <td>10.50</td>\n",
       "      <td>3.50</td>\n",
       "      <td>-0.00</td>\n",
       "      <td>0.00</td>\n",
       "      <td>0.00</td>\n",
       "      <td>0.00</td>\n",
       "      <td>-0.00</td>\n",
       "      <td>0.00</td>\n",
       "    </tr>\n",
       "    <tr>\n",
       "      <th>std</th>\n",
       "      <td>5.79</td>\n",
       "      <td>1.71</td>\n",
       "      <td>1.00</td>\n",
       "      <td>1.00</td>\n",
       "      <td>1.00</td>\n",
       "      <td>1.00</td>\n",
       "      <td>1.00</td>\n",
       "      <td>1.00</td>\n",
       "    </tr>\n",
       "    <tr>\n",
       "      <th>min</th>\n",
       "      <td>1.00</td>\n",
       "      <td>1.00</td>\n",
       "      <td>-1.19</td>\n",
       "      <td>-1.93</td>\n",
       "      <td>-1.57</td>\n",
       "      <td>-1.46</td>\n",
       "      <td>-1.23</td>\n",
       "      <td>-1.26</td>\n",
       "    </tr>\n",
       "    <tr>\n",
       "      <th>25%</th>\n",
       "      <td>5.75</td>\n",
       "      <td>2.00</td>\n",
       "      <td>-0.83</td>\n",
       "      <td>-0.64</td>\n",
       "      <td>-0.51</td>\n",
       "      <td>-0.95</td>\n",
       "      <td>-0.61</td>\n",
       "      <td>-0.84</td>\n",
       "    </tr>\n",
       "    <tr>\n",
       "      <th>50%</th>\n",
       "      <td>10.50</td>\n",
       "      <td>3.50</td>\n",
       "      <td>0.02</td>\n",
       "      <td>0.00</td>\n",
       "      <td>-0.51</td>\n",
       "      <td>0.32</td>\n",
       "      <td>0.00</td>\n",
       "      <td>-0.14</td>\n",
       "    </tr>\n",
       "    <tr>\n",
       "      <th>75%</th>\n",
       "      <td>15.25</td>\n",
       "      <td>5.00</td>\n",
       "      <td>0.75</td>\n",
       "      <td>0.64</td>\n",
       "      <td>1.08</td>\n",
       "      <td>1.08</td>\n",
       "      <td>0.61</td>\n",
       "      <td>0.98</td>\n",
       "    </tr>\n",
       "    <tr>\n",
       "      <th>max</th>\n",
       "      <td>20.00</td>\n",
       "      <td>6.00</td>\n",
       "      <td>1.72</td>\n",
       "      <td>1.29</td>\n",
       "      <td>1.62</td>\n",
       "      <td>1.59</td>\n",
       "      <td>1.84</td>\n",
       "      <td>1.54</td>\n",
       "    </tr>\n",
       "  </tbody>\n",
       "</table>\n",
       "</div>"
      ],
      "text/plain": [
       "         Resp  Car No.  Afford  Practical   Class  Sporty  Youth App     Fun\n",
       "count  120.00   120.00  120.00     120.00  120.00  120.00     120.00  120.00\n",
       "mean    10.50     3.50   -0.00       0.00    0.00    0.00      -0.00    0.00\n",
       "std      5.79     1.71    1.00       1.00    1.00    1.00       1.00    1.00\n",
       "min      1.00     1.00   -1.19      -1.93   -1.57   -1.46      -1.23   -1.26\n",
       "25%      5.75     2.00   -0.83      -0.64   -0.51   -0.95      -0.61   -0.84\n",
       "50%     10.50     3.50    0.02       0.00   -0.51    0.32       0.00   -0.14\n",
       "75%     15.25     5.00    0.75       0.64    1.08    1.08       0.61    0.98\n",
       "max     20.00     6.00    1.72       1.29    1.62    1.59       1.84    1.54"
      ]
     },
     "execution_count": 11,
     "metadata": {},
     "output_type": "execute_result"
    }
   ],
   "source": [
    "from sklearn.preprocessing import scale\n",
    "\n",
    "car_scaled = car.copy()\n",
    "car_scaled.iloc[:, 3:9] = scale(car.iloc[:, 3:9]).round(3)\n",
    "car_scaled.describe().round(2)"
   ]
  },
  {
   "cell_type": "markdown",
   "id": "6e0e553e-b152-42e8-b0e4-53ef80d11d01",
   "metadata": {},
   "source": [
    "Notice that the means of all the ratings variables are now zero and the standard deviations are all 1 now."
   ]
  },
  {
   "cell_type": "markdown",
   "id": "b89ecb03-d203-46c7-b30d-a091b485f279",
   "metadata": {},
   "source": [
    "### Exploratory step 1: What is the correlation between the different car attributes? (1b)"
   ]
  },
  {
   "cell_type": "markdown",
   "id": "8e25f00c-e6cb-49f2-9f5b-e65d4a4e4c4b",
   "metadata": {},
   "source": [
    "Next we want to understand which attributes are correlated. Therefore, we examine the bivariate relationship between the variables. We can correlate each pair of variables one by one, but it is more informative and simpler to get a full matrix of correlations and order these correlations."
   ]
  },
  {
   "cell_type": "code",
   "execution_count": 15,
   "id": "805b5b74-418a-4b76-b224-84d1b7539241",
   "metadata": {},
   "outputs": [
    {
     "data": {
      "text/html": [
       "<div>\n",
       "<style scoped>\n",
       "    .dataframe tbody tr th:only-of-type {\n",
       "        vertical-align: middle;\n",
       "    }\n",
       "\n",
       "    .dataframe tbody tr th {\n",
       "        vertical-align: top;\n",
       "    }\n",
       "\n",
       "    .dataframe thead th {\n",
       "        text-align: right;\n",
       "    }\n",
       "</style>\n",
       "<table border=\"1\" class=\"dataframe\">\n",
       "  <thead>\n",
       "    <tr style=\"text-align: right;\">\n",
       "      <th></th>\n",
       "      <th>Afford</th>\n",
       "      <th>Practical</th>\n",
       "      <th>Class</th>\n",
       "      <th>Sporty</th>\n",
       "      <th>Youth App</th>\n",
       "      <th>Fun</th>\n",
       "    </tr>\n",
       "  </thead>\n",
       "  <tbody>\n",
       "    <tr>\n",
       "      <th>Afford</th>\n",
       "      <td>1.000000</td>\n",
       "      <td>0.012946</td>\n",
       "      <td>-0.618241</td>\n",
       "      <td>-0.346061</td>\n",
       "      <td>-0.062018</td>\n",
       "      <td>-0.178413</td>\n",
       "    </tr>\n",
       "    <tr>\n",
       "      <th>Practical</th>\n",
       "      <td>0.012946</td>\n",
       "      <td>1.000000</td>\n",
       "      <td>-0.484328</td>\n",
       "      <td>-0.777632</td>\n",
       "      <td>-0.722101</td>\n",
       "      <td>-0.735533</td>\n",
       "    </tr>\n",
       "    <tr>\n",
       "      <th>Class</th>\n",
       "      <td>-0.618241</td>\n",
       "      <td>-0.484328</td>\n",
       "      <td>1.000000</td>\n",
       "      <td>0.798944</td>\n",
       "      <td>0.257621</td>\n",
       "      <td>0.573658</td>\n",
       "    </tr>\n",
       "    <tr>\n",
       "      <th>Sporty</th>\n",
       "      <td>-0.346061</td>\n",
       "      <td>-0.777632</td>\n",
       "      <td>0.798944</td>\n",
       "      <td>1.000000</td>\n",
       "      <td>0.636404</td>\n",
       "      <td>0.852368</td>\n",
       "    </tr>\n",
       "    <tr>\n",
       "      <th>Youth App</th>\n",
       "      <td>-0.062018</td>\n",
       "      <td>-0.722101</td>\n",
       "      <td>0.257621</td>\n",
       "      <td>0.636404</td>\n",
       "      <td>1.000000</td>\n",
       "      <td>0.643139</td>\n",
       "    </tr>\n",
       "    <tr>\n",
       "      <th>Fun</th>\n",
       "      <td>-0.178413</td>\n",
       "      <td>-0.735533</td>\n",
       "      <td>0.573658</td>\n",
       "      <td>0.852368</td>\n",
       "      <td>0.643139</td>\n",
       "      <td>1.000000</td>\n",
       "    </tr>\n",
       "  </tbody>\n",
       "</table>\n",
       "</div>"
      ],
      "text/plain": [
       "             Afford  Practical     Class    Sporty  Youth App       Fun\n",
       "Afford     1.000000   0.012946 -0.618241 -0.346061  -0.062018 -0.178413\n",
       "Practical  0.012946   1.000000 -0.484328 -0.777632  -0.722101 -0.735533\n",
       "Class     -0.618241  -0.484328  1.000000  0.798944   0.257621  0.573658\n",
       "Sporty    -0.346061  -0.777632  0.798944  1.000000   0.636404  0.852368\n",
       "Youth App -0.062018  -0.722101  0.257621  0.636404   1.000000  0.643139\n",
       "Fun       -0.178413  -0.735533  0.573658  0.852368   0.643139  1.000000"
      ]
     },
     "execution_count": 15,
     "metadata": {},
     "output_type": "execute_result"
    }
   ],
   "source": [
    "corr = car_scaled.iloc[:, 3:9].corr()\n",
    "corr"
   ]
  },
  {
   "cell_type": "markdown",
   "id": "ae793b00-34a4-47fd-a7b0-857cc0b2d27f",
   "metadata": {},
   "source": [
    "We can also visualize the correlation pictorially. To do that, we use the seaborn package."
   ]
  },
  {
   "cell_type": "code",
   "execution_count": 17,
   "id": "84d6c4b3-8b12-463d-83a1-349c05787599",
   "metadata": {},
   "outputs": [
    {
     "data": {
      "image/png": "[encoded data removed]",
      "text/plain": [
       "<Figure size 1000x800 with 2 Axes>"
      ]
     },
     "metadata": {},
     "output_type": "display_data"
    }
   ],
   "source": [
    "import seaborn as sns\n",
    "import matplotlib.pyplot as plt\n",
    "\n",
    "correlation_matrix = car_scaled.iloc[:, 3:9].corr()\n",
    "\n",
    "# Plot the correlation matrix with labels\n",
    "plt.figure(figsize=(10, 8))  # Set the figure size\n",
    "sns.heatmap(correlation_matrix, annot=False, cmap='coolwarm', fmt=\".2f\", \n",
    "            xticklabels=car.columns[3:9], yticklabels=car.columns[3:9])\n",
    "plt.title('Correlation Matrix')\n",
    "plt.show()"
   ]
  },
  {
   "cell_type": "markdown",
   "id": "5e2598a3-67fc-4c15-85a4-c2008ab69496",
   "metadata": {},
   "source": [
    "Together, the correlation analysis suggests that\n",
    "\n",
    "1) there is a fair amount of correlation between different variables, and\n",
    "\n",
    "2) some common themes emerge, e.g., classy cars are more likely to be thought of as sporty and fun and less likely to be thought of as practical or affordable."
   ]
  },
  {
   "cell_type": "markdown",
   "id": "5f92f95e-9bdf-4eaf-9bac-c77bc93629d7",
   "metadata": {},
   "source": [
    "### Exploratory step 1: Aggregate ratings by car brand (1c)"
   ]
  },
  {
   "cell_type": "code",
   "execution_count": 20,
   "id": "8c45e070-1e5d-415d-a86b-9183c6dca644",
   "metadata": {},
   "outputs": [
    {
     "data": {
      "text/html": [
       "<div>\n",
       "<style scoped>\n",
       "    .dataframe tbody tr th:only-of-type {\n",
       "        vertical-align: middle;\n",
       "    }\n",
       "\n",
       "    .dataframe tbody tr th {\n",
       "        vertical-align: top;\n",
       "    }\n",
       "\n",
       "    .dataframe thead th {\n",
       "        text-align: right;\n",
       "    }\n",
       "</style>\n",
       "<table border=\"1\" class=\"dataframe\">\n",
       "  <thead>\n",
       "    <tr style=\"text-align: right;\">\n",
       "      <th></th>\n",
       "      <th>Afford</th>\n",
       "      <th>Practical</th>\n",
       "      <th>Class</th>\n",
       "      <th>Sporty</th>\n",
       "      <th>Youth App</th>\n",
       "      <th>Fun</th>\n",
       "    </tr>\n",
       "    <tr>\n",
       "      <th>Car</th>\n",
       "      <th></th>\n",
       "      <th></th>\n",
       "      <th></th>\n",
       "      <th></th>\n",
       "      <th></th>\n",
       "      <th></th>\n",
       "    </tr>\n",
       "  </thead>\n",
       "  <tbody>\n",
       "    <tr>\n",
       "      <th>Acura</th>\n",
       "      <td>-0.95</td>\n",
       "      <td>-0.32</td>\n",
       "      <td>1.22</td>\n",
       "      <td>0.95</td>\n",
       "      <td>0.31</td>\n",
       "      <td>0.42</td>\n",
       "    </tr>\n",
       "    <tr>\n",
       "      <th>BMW</th>\n",
       "      <td>-1.07</td>\n",
       "      <td>-0.64</td>\n",
       "      <td>1.35</td>\n",
       "      <td>1.21</td>\n",
       "      <td>0.46</td>\n",
       "      <td>1.26</td>\n",
       "    </tr>\n",
       "    <tr>\n",
       "      <th>Camry</th>\n",
       "      <td>-0.10</td>\n",
       "      <td>0.64</td>\n",
       "      <td>-0.51</td>\n",
       "      <td>-0.95</td>\n",
       "      <td>-0.61</td>\n",
       "      <td>-0.98</td>\n",
       "    </tr>\n",
       "    <tr>\n",
       "      <th>Mazda</th>\n",
       "      <td>1.35</td>\n",
       "      <td>-1.45</td>\n",
       "      <td>-0.51</td>\n",
       "      <td>0.57</td>\n",
       "      <td>1.38</td>\n",
       "      <td>0.98</td>\n",
       "    </tr>\n",
       "    <tr>\n",
       "      <th>Taurus</th>\n",
       "      <td>0.02</td>\n",
       "      <td>0.64</td>\n",
       "      <td>-0.64</td>\n",
       "      <td>-0.57</td>\n",
       "      <td>-0.61</td>\n",
       "      <td>-0.70</td>\n",
       "    </tr>\n",
       "    <tr>\n",
       "      <th>Volkswagen</th>\n",
       "      <td>0.75</td>\n",
       "      <td>1.13</td>\n",
       "      <td>-0.91</td>\n",
       "      <td>-1.21</td>\n",
       "      <td>-0.92</td>\n",
       "      <td>-0.98</td>\n",
       "    </tr>\n",
       "  </tbody>\n",
       "</table>\n",
       "</div>"
      ],
      "text/plain": [
       "            Afford  Practical  Class  Sporty  Youth App   Fun\n",
       "Car                                                          \n",
       "Acura        -0.95      -0.32   1.22    0.95       0.31  0.42\n",
       "BMW          -1.07      -0.64   1.35    1.21       0.46  1.26\n",
       "Camry        -0.10       0.64  -0.51   -0.95      -0.61 -0.98\n",
       "Mazda         1.35      -1.45  -0.51    0.57       1.38  0.98\n",
       "Taurus        0.02       0.64  -0.64   -0.57      -0.61 -0.70\n",
       "Volkswagen    0.75       1.13  -0.91   -1.21      -0.92 -0.98"
      ]
     },
     "execution_count": 20,
     "metadata": {},
     "output_type": "execute_result"
    }
   ],
   "source": [
    "feature_mean = car_scaled.groupby(\"Car\").mean().iloc[:, 2:9].round(2)\n",
    "feature_mean"
   ]
  },
  {
   "cell_type": "markdown",
   "id": "089be9bb-7af5-4151-86e6-da611e340314",
   "metadata": {},
   "source": [
    "This table gives us some insight into the broad perceptions about brands. For instance, BMW is perceived to be the least affordable, but most classy, sporty, and fun. Mazda Miata scores highly on affordability and youth appeal, but low on practicality. What other insights do you find?\n",
    "\n",
    "We can examine these results using a heatmap to process these results better. You can again use the seaborn package."
   ]
  },
  {
   "cell_type": "code",
   "execution_count": 22,
   "id": "b29c224d-9d8b-4677-863b-9328d150583a",
   "metadata": {},
   "outputs": [
    {
     "data": {
      "image/png": "[encoded data removed]",
      "text/plain": [
       "<Figure size 1000x800 with 2 Axes>"
      ]
     },
     "metadata": {},
     "output_type": "display_data"
    }
   ],
   "source": [
    "plt.figure(figsize=(10, 8))\n",
    "sns.heatmap(feature_mean, annot=False, cmap='coolwarm', \n",
    "            xticklabels=feature_mean.columns, yticklabels=feature_mean.index)\n",
    "plt.title('Mean Values of Features Grouped by Car')\n",
    "plt.xlabel('Features')\n",
    "plt.ylabel('Car')\n",
    "plt.show()"
   ]
  },
  {
   "cell_type": "markdown",
   "id": "9fddb880-aba8-4770-a184-f6e0838c0a27",
   "metadata": {},
   "source": [
    "This heatmap is quite informative – it suggests that car brands BMW, Acura, and Mazda Miata are similar with high ratings on Fun, Classy, and Sporty. Taurus and Camry are also somewhat similar with high ratings on affordability and practicality and low ratings on fun and sportiness.\n",
    "\n",
    "While this heatmap is great for giving us an overview of similarities and dissimilarities between various brands, it has three drawbacks\n",
    "\n",
    " 1) it becomes increasingly cumbersome as the number of brands and attributes increas\n",
    "\n",
    " 2) we still have to spend some effort to manually figure out which brands are similar on which attribute\n",
    "\n",
    " 3) most importantly, it hasn’t reduced the dimensionality of the problem.\n"
   ]
  },
  {
   "cell_type": "markdown",
   "id": "772f62dd-69a0-4e84-b8a6-b125cc7ae39b",
   "metadata": {},
   "source": [
    "## Step 2: Principal Component Analysis"
   ]
  },
  {
   "cell_type": "markdown",
   "id": "8ffacc7f-3ac3-4dd0-81a8-b80dbdd356a0",
   "metadata": {},
   "source": [
    "PCA will address all the problems outlined above. It is a statistical procedure to reduce the dimensionality of correlated data. The results from PCA can then be plotted on a perceptual map to help us understand the positioning of different brands."
   ]
  },
  {
   "cell_type": "markdown",
   "id": "f5bca0d7-8abe-4dc5-83e9-b15b65a664f1",
   "metadata": {},
   "source": [
    "### Perform PCA (2a)"
   ]
  },
  {
   "cell_type": "markdown",
   "id": "cd27a3ef-244b-4cbb-acd1-7611dbb9bfa3",
   "metadata": {},
   "source": [
    "Performing PCA in Python is quite simple. You can also check how much varition each variable explains."
   ]
  },
  {
   "cell_type": "code",
   "execution_count": 28,
   "id": "d7d5f5a5-5786-4916-a703-9874bed8a4d1",
   "metadata": {},
   "outputs": [
    {
     "data": {
      "text/html": [
       "<div>\n",
       "<style scoped>\n",
       "    .dataframe tbody tr th:only-of-type {\n",
       "        vertical-align: middle;\n",
       "    }\n",
       "\n",
       "    .dataframe tbody tr th {\n",
       "        vertical-align: top;\n",
       "    }\n",
       "\n",
       "    .dataframe thead th {\n",
       "        text-align: right;\n",
       "    }\n",
       "</style>\n",
       "<table border=\"1\" class=\"dataframe\">\n",
       "  <thead>\n",
       "    <tr style=\"text-align: right;\">\n",
       "      <th></th>\n",
       "      <th>0</th>\n",
       "      <th>1</th>\n",
       "      <th>2</th>\n",
       "      <th>3</th>\n",
       "      <th>4</th>\n",
       "      <th>5</th>\n",
       "    </tr>\n",
       "  </thead>\n",
       "  <tbody>\n",
       "    <tr>\n",
       "      <th>Principal Component</th>\n",
       "      <td>PC1</td>\n",
       "      <td>PC2</td>\n",
       "      <td>PC3</td>\n",
       "      <td>PC4</td>\n",
       "      <td>PC5</td>\n",
       "      <td>PC6</td>\n",
       "    </tr>\n",
       "    <tr>\n",
       "      <th>Explained Variance</th>\n",
       "      <td>0.622225</td>\n",
       "      <td>0.223065</td>\n",
       "      <td>0.077372</td>\n",
       "      <td>0.042638</td>\n",
       "      <td>0.02523</td>\n",
       "      <td>0.00947</td>\n",
       "    </tr>\n",
       "    <tr>\n",
       "      <th>Cumulative Variance</th>\n",
       "      <td>0.622225</td>\n",
       "      <td>0.84529</td>\n",
       "      <td>0.922662</td>\n",
       "      <td>0.9653</td>\n",
       "      <td>0.99053</td>\n",
       "      <td>1.0</td>\n",
       "    </tr>\n",
       "  </tbody>\n",
       "</table>\n",
       "</div>"
      ],
      "text/plain": [
       "                            0         1         2         3        4        5\n",
       "Principal Component       PC1       PC2       PC3       PC4      PC5      PC6\n",
       "Explained Variance   0.622225  0.223065  0.077372  0.042638  0.02523  0.00947\n",
       "Cumulative Variance  0.622225   0.84529  0.922662    0.9653  0.99053      1.0"
      ]
     },
     "execution_count": 28,
     "metadata": {},
     "output_type": "execute_result"
    }
   ],
   "source": [
    "from sklearn.decomposition import PCA\n",
    "\n",
    "# Assuming car_scaled is your scaled DataFrame\n",
    "\n",
    "features = car_scaled.iloc[:, 3:9]\n",
    "pca = PCA()\n",
    "pca.fit(features)\n",
    "explained_variance = pca.explained_variance_ratio_\n",
    "cumulative_variance = pca.explained_variance_ratio_.cumsum()\n",
    "eigenvalues = pca.explained_variance_\n",
    "components = pca.components_\n",
    "\n",
    "# Create a summary DataFrame\n",
    "pca_summary = pd.DataFrame({\n",
    "    'Principal Component': [f'PC{i+1}' for i in range(len(explained_variance))],\n",
    "    'Explained Variance': explained_variance,\n",
    "    'Cumulative Variance': cumulative_variance\n",
    "})\n",
    "\n",
    "# Display the summary DataFrame\n",
    "pca_summary.transpose()"
   ]
  },
  {
   "cell_type": "markdown",
   "id": "07b5dd0c-9fda-4c17-8049-b149a2c44706",
   "metadata": {},
   "source": [
    "PCA maps our original six variables on another six-dimensional space, where each dimension is orthogonal. The second row of the table above tells us how much of the variance in the data is explained by each component, in decreasing order. Thus, the first component explains 62.23% of the variance in the data, the second component explains 22.30%, and so on. The third row denotes the cumulative variance. In our example, the first and second components explain 84.53% of the variance in the data. In other words, we can reduce the dimensionality of our original set of six variables to two, and still retain 84.53% of the explanatory power. "
   ]
  },
  {
   "cell_type": "markdown",
   "id": "59ecfce0-785b-4fc4-8815-90df9665e0df",
   "metadata": {},
   "source": [
    "### Derive relationship between the new factors and original attributes (2b)"
   ]
  },
  {
   "cell_type": "markdown",
   "id": "df68f541-5b4a-44b9-8e5b-f8065356dfb7",
   "metadata": {},
   "source": [
    "The above table does not tell us how the factors generated by the PCA relate to the original attributes. To get that information, we use the following command."
   ]
  },
  {
   "cell_type": "code",
   "execution_count": 32,
   "id": "e894eae1-7607-47b5-b056-da9cec23f088",
   "metadata": {},
   "outputs": [
    {
     "data": {
      "text/html": [
       "<div>\n",
       "<style scoped>\n",
       "    .dataframe tbody tr th:only-of-type {\n",
       "        vertical-align: middle;\n",
       "    }\n",
       "\n",
       "    .dataframe tbody tr th {\n",
       "        vertical-align: top;\n",
       "    }\n",
       "\n",
       "    .dataframe thead th {\n",
       "        text-align: right;\n",
       "    }\n",
       "</style>\n",
       "<table border=\"1\" class=\"dataframe\">\n",
       "  <thead>\n",
       "    <tr style=\"text-align: right;\">\n",
       "      <th></th>\n",
       "      <th>Afford</th>\n",
       "      <th>Practical</th>\n",
       "      <th>Class</th>\n",
       "      <th>Sporty</th>\n",
       "      <th>Youth App</th>\n",
       "      <th>Fun</th>\n",
       "    </tr>\n",
       "  </thead>\n",
       "  <tbody>\n",
       "    <tr>\n",
       "      <th>PC1</th>\n",
       "      <td>-0.194748</td>\n",
       "      <td>-0.439281</td>\n",
       "      <td>0.400688</td>\n",
       "      <td>0.499573</td>\n",
       "      <td>0.382964</td>\n",
       "      <td>0.460782</td>\n",
       "    </tr>\n",
       "    <tr>\n",
       "      <th>PC2</th>\n",
       "      <td>0.726951</td>\n",
       "      <td>-0.317545</td>\n",
       "      <td>-0.457385</td>\n",
       "      <td>-0.042958</td>\n",
       "      <td>0.375429</td>\n",
       "      <td>0.136797</td>\n",
       "    </tr>\n",
       "    <tr>\n",
       "      <th>PC3</th>\n",
       "      <td>-0.525618</td>\n",
       "      <td>0.106216</td>\n",
       "      <td>-0.361478</td>\n",
       "      <td>-0.195483</td>\n",
       "      <td>0.713086</td>\n",
       "      <td>-0.187275</td>\n",
       "    </tr>\n",
       "    <tr>\n",
       "      <th>PC4</th>\n",
       "      <td>-0.040825</td>\n",
       "      <td>0.575951</td>\n",
       "      <td>-0.274703</td>\n",
       "      <td>0.037085</td>\n",
       "      <td>-0.043604</td>\n",
       "      <td>0.766730</td>\n",
       "    </tr>\n",
       "    <tr>\n",
       "      <th>PC5</th>\n",
       "      <td>-0.381754</td>\n",
       "      <td>-0.600793</td>\n",
       "      <td>-0.417854</td>\n",
       "      <td>-0.278940</td>\n",
       "      <td>-0.408884</td>\n",
       "      <td>0.271506</td>\n",
       "    </tr>\n",
       "    <tr>\n",
       "      <th>PC6</th>\n",
       "      <td>-0.099692</td>\n",
       "      <td>0.047366</td>\n",
       "      <td>-0.499517</td>\n",
       "      <td>0.794472</td>\n",
       "      <td>-0.186579</td>\n",
       "      <td>-0.268892</td>\n",
       "    </tr>\n",
       "  </tbody>\n",
       "</table>\n",
       "</div>"
      ],
      "text/plain": [
       "       Afford  Practical     Class    Sporty  Youth App       Fun\n",
       "PC1 -0.194748  -0.439281  0.400688  0.499573   0.382964  0.460782\n",
       "PC2  0.726951  -0.317545 -0.457385 -0.042958   0.375429  0.136797\n",
       "PC3 -0.525618   0.106216 -0.361478 -0.195483   0.713086 -0.187275\n",
       "PC4 -0.040825   0.575951 -0.274703  0.037085  -0.043604  0.766730\n",
       "PC5 -0.381754  -0.600793 -0.417854 -0.278940  -0.408884  0.271506\n",
       "PC6 -0.099692   0.047366 -0.499517  0.794472  -0.186579 -0.268892"
      ]
     },
     "execution_count": 32,
     "metadata": {},
     "output_type": "execute_result"
    }
   ],
   "source": [
    "# Get the PCA components (loadings)\n",
    "pca_loadings = pca.components_.T  # Transpose to get features as rows\n",
    "\n",
    "# Create a DataFrame for the loadings\n",
    "loadings_df = pd.DataFrame(data=pca_loadings, \n",
    "                           columns=[f'PC{i+1}' for i in range(pca_loadings.shape[1])], \n",
    "                           index=features.columns)\n",
    "\n",
    "# Display the loadings matrix\n",
    "loadings_df.transpose()"
   ]
  },
  {
   "cell_type": "markdown",
   "id": "57b9a95b-2c3a-445d-861c-460584c17d6c",
   "metadata": {},
   "source": [
    "### Decide how many factors to keep (2c)"
   ]
  },
  {
   "cell_type": "markdown",
   "id": "a855211e-4c0b-4ec7-b2de-0e13f250058f",
   "metadata": {},
   "source": [
    "Now that we know the relationship between the new components or factors and the old original attributes and have some intuitive interpretation of the factors, we need to figure out how many factors to keep. Recall that dimensionality reduction was one of the main goals. If we retain all the six components, we have not reduced the size of the data at all. We can use the following to help us with this decision."
   ]
  },
  {
   "cell_type": "code",
   "execution_count": 35,
   "id": "664d2d05-a99d-4ff0-bf8b-0e63a4790593",
   "metadata": {},
   "outputs": [
    {
     "data": {
      "image/png": "[encoded data removed]",
      "text/plain": [
       "<Figure size 800x500 with 1 Axes>"
      ]
     },
     "metadata": {},
     "output_type": "display_data"
    }
   ],
   "source": [
    "# Plot the explained variance\n",
    "plt.figure(figsize=(8, 5))\n",
    "plt.plot(range(1, len(explained_variance) + 1), explained_variance, marker='o', linestyle='--')\n",
    "plt.title('PCA Explained Variance')\n",
    "plt.xlabel('Principal Component')\n",
    "plt.ylabel('Variance Explained')\n",
    "plt.xticks(range(1, len(explained_variance) + 1))\n",
    "plt.grid()\n",
    "plt.show()"
   ]
  },
  {
   "cell_type": "markdown",
   "id": "72cac175-faa8-4485-8bf5-ed611a740f49",
   "metadata": {},
   "source": [
    "The common rule of thumb is to keep factors that are above the “kink” in the scree-plot. Here, that would translate to two factors. The second criteria often used is to keep factors which are over 1 in the scree plot. This criteria also gives us two factors in this case. Thus, we can reduce the dimensionality of our data from six to two in this example."
   ]
  },
  {
   "cell_type": "markdown",
   "id": "184a8f24-7bdf-491b-9383-b73524c39241",
   "metadata": {},
   "source": [
    "### Name the factors (2d)"
   ]
  },
  {
   "cell_type": "markdown",
   "id": "7acdc83f-e6fc-462c-9659-acbc6c3995f3",
   "metadata": {},
   "source": [
    "Can we now think of intuitive names for the two factors? Naming factors is driven by your managerial intuition and domain knowledge. For example, in this case, can we name: PC1 = Style or Fashion and PC2 = Economy? The main idea is that one factor seems to be heavily correlated with the car’s image and coolness factor, whereas the other seems most positively correlated with affordability of the car and negatively correlated with image attributes like class."
   ]
  },
  {
   "attachments": {},
   "cell_type": "markdown",
   "id": "2a87cdc8-cb72-4acf-82e8-4f9826f4a1f7",
   "metadata": {},
   "source": [
    "### Plot the data on the two top factors and interpret (2f)\n",
    "\n",
    "First we need to save the transformed features into a new dataset. "
   ]
  },
  {
   "cell_type": "markdown",
   "id": "538a9a3d-c2bf-4a7a-a84f-d28b767038af",
   "metadata": {},
   "source": [
    "#### Predict the new factor scores\n",
    "\n",
    "We first generate a new dataset where the ratings are now transformed to the new factors using the following two steps. First, we use the command transform, which takes the results of our PCA and applies it to original features. Then, we create a new dataframe with new factors and assign the car names as well. We can check the generated dataset with the head() command."
   ]
  },
  {
   "cell_type": "code",
   "execution_count": 41,
   "id": "4b66588c-b922-45e4-b180-563ad73a3721",
   "metadata": {},
   "outputs": [
    {
     "data": {
      "text/html": [
       "<div>\n",
       "<style scoped>\n",
       "    .dataframe tbody tr th:only-of-type {\n",
       "        vertical-align: middle;\n",
       "    }\n",
       "\n",
       "    .dataframe tbody tr th {\n",
       "        vertical-align: top;\n",
       "    }\n",
       "\n",
       "    .dataframe thead th {\n",
       "        text-align: right;\n",
       "    }\n",
       "</style>\n",
       "<table border=\"1\" class=\"dataframe\">\n",
       "  <thead>\n",
       "    <tr style=\"text-align: right;\">\n",
       "      <th></th>\n",
       "      <th>PC1</th>\n",
       "      <th>PC2</th>\n",
       "      <th>PC3</th>\n",
       "      <th>PC4</th>\n",
       "      <th>PC5</th>\n",
       "      <th>PC6</th>\n",
       "      <th>Car</th>\n",
       "    </tr>\n",
       "  </thead>\n",
       "  <tbody>\n",
       "    <tr>\n",
       "      <th>0</th>\n",
       "      <td>-1.597113</td>\n",
       "      <td>-0.636015</td>\n",
       "      <td>-0.628424</td>\n",
       "      <td>-0.575645</td>\n",
       "      <td>-0.212831</td>\n",
       "      <td>0.206819</td>\n",
       "      <td>Taurus</td>\n",
       "    </tr>\n",
       "    <tr>\n",
       "      <th>1</th>\n",
       "      <td>0.455035</td>\n",
       "      <td>2.294578</td>\n",
       "      <td>0.051320</td>\n",
       "      <td>0.935026</td>\n",
       "      <td>-0.615347</td>\n",
       "      <td>0.311633</td>\n",
       "      <td>Mazda</td>\n",
       "    </tr>\n",
       "    <tr>\n",
       "      <th>2</th>\n",
       "      <td>-1.616638</td>\n",
       "      <td>-0.384011</td>\n",
       "      <td>-0.091801</td>\n",
       "      <td>-0.621251</td>\n",
       "      <td>-0.321497</td>\n",
       "      <td>-0.311940</td>\n",
       "      <td>Camry</td>\n",
       "    </tr>\n",
       "    <tr>\n",
       "      <th>3</th>\n",
       "      <td>0.957539</td>\n",
       "      <td>-0.624615</td>\n",
       "      <td>-0.466139</td>\n",
       "      <td>0.054255</td>\n",
       "      <td>-0.414263</td>\n",
       "      <td>-0.177799</td>\n",
       "      <td>Acura</td>\n",
       "    </tr>\n",
       "    <tr>\n",
       "      <th>4</th>\n",
       "      <td>2.060131</td>\n",
       "      <td>-0.962320</td>\n",
       "      <td>-0.675667</td>\n",
       "      <td>0.005863</td>\n",
       "      <td>-0.054656</td>\n",
       "      <td>-0.171741</td>\n",
       "      <td>BMW</td>\n",
       "    </tr>\n",
       "  </tbody>\n",
       "</table>\n",
       "</div>"
      ],
      "text/plain": [
       "        PC1       PC2       PC3       PC4       PC5       PC6     Car\n",
       "0 -1.597113 -0.636015 -0.628424 -0.575645 -0.212831  0.206819  Taurus\n",
       "1  0.455035  2.294578  0.051320  0.935026 -0.615347  0.311633   Mazda\n",
       "2 -1.616638 -0.384011 -0.091801 -0.621251 -0.321497 -0.311940   Camry\n",
       "3  0.957539 -0.624615 -0.466139  0.054255 -0.414263 -0.177799   Acura\n",
       "4  2.060131 -0.962320 -0.675667  0.005863 -0.054656 -0.171741     BMW"
      ]
     },
     "execution_count": 41,
     "metadata": {},
     "output_type": "execute_result"
    }
   ],
   "source": [
    "pca_features = pca.transform(features)\n",
    "\n",
    "# Create a DataFrame for the PCA results\n",
    "pca_df = pd.DataFrame(data=pca_features, columns=[f'PC{i+1}' for i in range(pca_features.shape[1])])\n",
    "\n",
    "# Add the 'Car' column for labeling\n",
    "pca_df['Car'] = car_scaled['Car'].values\n",
    "pca_df.head()"
   ]
  },
  {
   "cell_type": "markdown",
   "id": "e942c685-dd0f-42a7-896f-a49c0bdcf7bd",
   "metadata": {},
   "source": [
    "Now, we can plot the ratings on the two main principal components using the following code"
   ]
  },
  {
   "cell_type": "code",
   "execution_count": 43,
   "id": "a15d42c1-7651-4248-b5a4-65bd03b88f67",
   "metadata": {
    "scrolled": true
   },
   "outputs": [
    {
     "data": {
      "image/png": "[encoded data removed]",
      "text/plain": [
       "<Figure size 640x480 with 1 Axes>"
      ]
     },
     "metadata": {},
     "output_type": "display_data"
    }
   ],
   "source": [
    "import matplotlib.pyplot as plt\n",
    "import numpy as np\n",
    "import pandas as pd\n",
    "\n",
    "def biplot(score, coeff, df, labels=None):\n",
    "    xs = score.iloc[:, 0]\n",
    "    ys = score.iloc[:, 1]\n",
    "    n = coeff.shape[0]\n",
    "    scalex = 1.0 / (xs.max() - xs.min())\n",
    "    scaley = 1.0 / (ys.max() - ys.min())\n",
    "    \n",
    "    # Factorize the 'Car' column to get unique labels and indices\n",
    "    point_labels, unique_cars = pd.factorize(df['Car'])\n",
    "    \n",
    "    # Define a colormap using the updated method\n",
    "    colormap = plt.colormaps['tab10']\n",
    "    \n",
    "    # Assign colors to each car label\n",
    "    colors = colormap(np.linspace(0, 1, len(unique_cars)))\n",
    "    \n",
    "    # Create a scatter plot with colors based on point_labels\n",
    "    scatter = plt.scatter(xs * scalex, ys * scaley, c=point_labels, cmap=colormap)\n",
    "\n",
    "    # Create a legend using the unique car names and their corresponding colors\n",
    "    handles = [plt.Line2D([0], [0], marker='o', color=colors[i], linestyle='', label=car) for i, car in enumerate(unique_cars)]\n",
    "    plt.legend(title='Car Names', handles=handles, bbox_to_anchor=(1.05, 1), loc='upper left')\n",
    "\n",
    "    for i in range(n):\n",
    "        plt.arrow(0, 0, coeff[i, 0], coeff[i, 1], color='r', alpha=0.5)\n",
    "        if labels is None:\n",
    "            plt.text(coeff[i, 0] * 1.15, coeff[i, 1] * 1.15, \"Var\" + str(i + 1), color='b', ha='center', va='center')\n",
    "        else:\n",
    "            plt.text(coeff[i, 0] * 1.15, coeff[i, 1] * 1.15, labels[i], color='black', ha='center', va='center')\n",
    "\n",
    "    plt.xlim(-1, 1)\n",
    "    plt.ylim(-1, 1)\n",
    "    plt.xlabel(\"Style\")\n",
    "    plt.ylabel(\"Economy\")\n",
    "    plt.grid()\n",
    "\n",
    "# Call the function. Use only the 2 PCs and pass the complete DataFrame.\n",
    "# Assuming pca_df and car are previously defined DataFrames\n",
    "biplot(pca_df.iloc[:, 0:2], np.transpose(pca.components_[0:2, :]), pca_df, car.columns[3:])\n",
    "plt.show()\n"
   ]
  },
  {
   "cell_type": "markdown",
   "id": "dfeeb411-8010-4ba7-9e93-889d686c322b",
   "metadata": {},
   "source": [
    "This map tells us that Youth.App, Fun, and Sportiness are highly correlated attributes and they cluster together in this graph. Class is similar to these attributes, but sufficiently different. The remaining two attributes, affordability and practicality, are close to orthogonal and different from each other as well as other attributes."
   ]
  },
  {
   "cell_type": "markdown",
   "id": "4b8ea58c-f9f6-4577-9642-58e4a2eb0920",
   "metadata": {},
   "source": [
    "## Step 3: Positioning Maps"
   ]
  },
  {
   "attachments": {},
   "cell_type": "markdown",
   "id": "ce6b1bc2-3834-492b-96f8-501bc011ee0f",
   "metadata": {},
   "source": [
    "Next, we consider the question of positioning of cars. While the previous analysis tells us the relationship between various car attributes, and allowed us to compress many correlated attributes into fewer intuitvely meaningful attributes, it did not give us any insights into the positioning of cars. To understand how cars are positioned in the minds of consumers, we need to do augment the previous analysis a bit."
   ]
  },
  {
   "attachments": {},
   "cell_type": "markdown",
   "id": "39891a8a-b6d6-4fb5-8f36-909fd2814268",
   "metadata": {},
   "source": [
    "### Aggregate the scores across car brands (3a)"
   ]
  },
  {
   "cell_type": "markdown",
   "id": "01ee7bf1-7c3a-46e7-b6cb-9a717ca7f20f",
   "metadata": {},
   "source": [
    "Now, we aggregate this new dataset and get the mean ratings of each car on the new factors. We use the same commande we used earlier in this document."
   ]
  },
  {
   "cell_type": "code",
   "execution_count": 49,
   "id": "4f1a434f-acfa-417d-9a44-83a1685436f3",
   "metadata": {},
   "outputs": [
    {
     "data": {
      "text/html": [
       "<div>\n",
       "<style scoped>\n",
       "    .dataframe tbody tr th:only-of-type {\n",
       "        vertical-align: middle;\n",
       "    }\n",
       "\n",
       "    .dataframe tbody tr th {\n",
       "        vertical-align: top;\n",
       "    }\n",
       "\n",
       "    .dataframe thead th {\n",
       "        text-align: right;\n",
       "    }\n",
       "</style>\n",
       "<table border=\"1\" class=\"dataframe\">\n",
       "  <thead>\n",
       "    <tr style=\"text-align: right;\">\n",
       "      <th>Car</th>\n",
       "      <th>Acura</th>\n",
       "      <th>BMW</th>\n",
       "      <th>Camry</th>\n",
       "      <th>Mazda</th>\n",
       "      <th>Taurus</th>\n",
       "      <th>Volkswagen</th>\n",
       "    </tr>\n",
       "  </thead>\n",
       "  <tbody>\n",
       "    <tr>\n",
       "      <th>PC1</th>\n",
       "      <td>1.60</td>\n",
       "      <td>2.39</td>\n",
       "      <td>-1.63</td>\n",
       "      <td>1.43</td>\n",
       "      <td>-1.39</td>\n",
       "      <td>-2.41</td>\n",
       "    </tr>\n",
       "    <tr>\n",
       "      <th>PC2</th>\n",
       "      <td>-1.01</td>\n",
       "      <td>-0.90</td>\n",
       "      <td>-0.37</td>\n",
       "      <td>2.30</td>\n",
       "      <td>-0.20</td>\n",
       "      <td>0.17</td>\n",
       "    </tr>\n",
       "    <tr>\n",
       "      <th>PC3</th>\n",
       "      <td>-0.02</td>\n",
       "      <td>-0.14</td>\n",
       "      <td>0.24</td>\n",
       "      <td>0.01</td>\n",
       "      <td>0.10</td>\n",
       "      <td>-0.18</td>\n",
       "    </tr>\n",
       "    <tr>\n",
       "      <th>PC4</th>\n",
       "      <td>-0.14</td>\n",
       "      <td>0.29</td>\n",
       "      <td>-0.25</td>\n",
       "      <td>-0.04</td>\n",
       "      <td>0.01</td>\n",
       "      <td>0.11</td>\n",
       "    </tr>\n",
       "    <tr>\n",
       "      <th>PC5</th>\n",
       "      <td>-0.23</td>\n",
       "      <td>0.05</td>\n",
       "      <td>0.12</td>\n",
       "      <td>0.11</td>\n",
       "      <td>0.09</td>\n",
       "      <td>-0.14</td>\n",
       "    </tr>\n",
       "    <tr>\n",
       "      <th>PC6</th>\n",
       "      <td>0.06</td>\n",
       "      <td>-0.06</td>\n",
       "      <td>-0.09</td>\n",
       "      <td>-0.01</td>\n",
       "      <td>0.20</td>\n",
       "      <td>-0.09</td>\n",
       "    </tr>\n",
       "  </tbody>\n",
       "</table>\n",
       "</div>"
      ],
      "text/plain": [
       "Car  Acura   BMW  Camry  Mazda  Taurus  Volkswagen\n",
       "PC1   1.60  2.39  -1.63   1.43   -1.39       -2.41\n",
       "PC2  -1.01 -0.90  -0.37   2.30   -0.20        0.17\n",
       "PC3  -0.02 -0.14   0.24   0.01    0.10       -0.18\n",
       "PC4  -0.14  0.29  -0.25  -0.04    0.01        0.11\n",
       "PC5  -0.23  0.05   0.12   0.11    0.09       -0.14\n",
       "PC6   0.06 -0.06  -0.09  -0.01    0.20       -0.09"
      ]
     },
     "execution_count": 49,
     "metadata": {},
     "output_type": "execute_result"
    }
   ],
   "source": [
    "pca_mean = pca_df.groupby(\"Car\").mean().round(2)\n",
    "pca_mean.transpose()"
   ]
  },
  {
   "cell_type": "markdown",
   "id": "bf8b5a88-2484-4fa3-bcf3-7685f57a159d",
   "metadata": {},
   "source": [
    "### Plot the positioning map (3b)"
   ]
  },
  {
   "cell_type": "markdown",
   "id": "996dae02-06a9-46a1-a862-037ad23a2eca",
   "metadata": {},
   "source": [
    "We take the means of car ratings for the first two factors and plot them on a two-dimensional plot to generate the positioning map."
   ]
  },
  {
   "cell_type": "code",
   "execution_count": 69,
   "id": "91230235-5ca8-4148-bea1-4bfda01fede3",
   "metadata": {},
   "outputs": [
    {
     "data": {
      "image/png": "[encoded data removed]",
      "text/plain": [
       "<Figure size 1000x700 with 1 Axes>"
      ]
     },
     "metadata": {},
     "output_type": "display_data"
    }
   ],
   "source": [
    "def plot_positioning_map(df, xlabel, ylabel):\n",
    "    xs = df.iloc[:, 0]\n",
    "    ys = df.iloc[:, 1]\n",
    "\n",
    "    # Plot the car names at their corresponding positions\n",
    "    plt.figure(figsize=(10, 7))\n",
    "    \n",
    "    # Annotate each point with the corresponding car name without the scatter plot\n",
    "    for i in range(len(df)):\n",
    "        plt.text(xs.iloc[i], ys.iloc[i], df.index[i], fontsize=20, ha='center', va='center')\n",
    "    \n",
    "    # Set the plot limits to ensure all names are within the figure box\n",
    "    plt.xlim(xs.min() - 0.5, xs.max() + 0.5)\n",
    "    plt.ylim(ys.min() - 0.5, ys.max() + 0.5)\n",
    "    \n",
    "    plt.xlabel(xlabel)\n",
    "    plt.ylabel(ylabel)\n",
    "    plt.title(\"Brand Positioning\")\n",
    "    plt.grid()\n",
    "    plt.show()\n",
    "\n",
    "plot_positioning_map(pca_mean, \"Style\",\"Economy\")"
   ]
  },
  {
   "cell_type": "markdown",
   "id": "47769cf9-8322-4ba6-b36f-2f313a2e90de",
   "metadata": {},
   "source": [
    "The perceptual map can now used for many important branding, positioning, and product design tasks. E.g., if you were to update your car brand, which attributes should you add or focus on? If you are introducing a new car brand, where would you position yourself? Are there any open areas available for entry?"
   ]
  }
 ],
 "metadata": {
  "kernelspec": {
   "display_name": "anaconda-2024.02-py310",
   "language": "python",
   "name": "conda-env-anaconda-2024.02-py310-py"
  },
  "language_info": {
   "codemirror_mode": {
    "name": "ipython",
    "version": 3
   },
   "file_extension": ".py",
   "mimetype": "text/x-python",
   "name": "python",
   "nbconvert_exporter": "python",
   "pygments_lexer": "ipython3",
   "version": "3.10.14"
  }
 },
 "nbformat": 4,
 "nbformat_minor": 5
}
